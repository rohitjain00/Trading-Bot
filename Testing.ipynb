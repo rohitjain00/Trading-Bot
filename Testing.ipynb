{
 "cells": [
  {
   "cell_type": "code",
   "execution_count": 7,
   "metadata": {},
   "outputs": [
    {
     "name": "stdout",
     "output_type": "stream",
     "text": [
      "(1000, 16)\n",
      "         Open time      Open      High       Low     Close    Volume  \\\n",
      "995  1579316400000  0.006880  0.006909  0.006861  0.006871   2947.97   \n",
      "996  1579320000000  0.006874  0.006874  0.006655  0.006739  15260.70   \n",
      "997  1579323600000  0.006739  0.006777  0.006677  0.006704   9453.37   \n",
      "998  1579327200000  0.006706  0.006765  0.006570  0.006757  26044.70   \n",
      "999  1579330800000  0.006757  0.006761  0.006717  0.006722    916.77   \n",
      "\n",
      "        Close time  Quote asset volume  Number of trades  \\\n",
      "995  1579319999999           20.282867               691   \n",
      "996  1579323599999          103.002664              3763   \n",
      "997  1579327199999           63.507647              1727   \n",
      "998  1579330799999          173.556290              3881   \n",
      "999  1579334399999            6.178191               159   \n",
      "\n",
      "     Taker buy base asset volume  Taker buy quote asset volume  Typical Price  \\\n",
      "995                      1575.51                     10.843927       0.006880   \n",
      "996                      6932.67                     46.797083       0.006756   \n",
      "997                      5458.87                     36.675664       0.006719   \n",
      "998                     10600.65                     70.710340       0.006697   \n",
      "999                       343.76                      2.314240       0.006733   \n",
      "\n",
      "     Moving Average       std  Upper Band  Lower Band  \n",
      "995        0.006819  0.000109    0.007036    0.006602  \n",
      "996        0.006821  0.000107    0.007035    0.006608  \n",
      "997        0.006822  0.000106    0.007033    0.006611  \n",
      "998        0.006822  0.000105    0.007033    0.006612  \n",
      "999        0.006824  0.000104    0.007031    0.006617  \n",
      "(1001, 16)\n",
      "         Open time      Open      High       Low     Close    Volume  \\\n",
      "996  1579320000000  0.006874  0.006874  0.006655  0.006739  15260.70   \n",
      "997  1579323600000  0.006739  0.006777  0.006677  0.006704   9453.37   \n",
      "998  1579327200000  0.006706  0.006765  0.006570  0.006757  26044.70   \n",
      "999  1579330800000  0.006757  0.006761  0.006717  0.006722    916.77   \n",
      "0    1579331100000  0.006725  0.006725  0.006721  0.006722     56.47   \n",
      "\n",
      "        Close time  Quote asset volume  Number of trades  \\\n",
      "996  1579323599999          103.002664              3763   \n",
      "997  1579327199999           63.507647              1727   \n",
      "998  1579330799999          173.556290              3881   \n",
      "999  1579334399999            6.178191               159   \n",
      "0    1579331159999            0.379590                12   \n",
      "\n",
      "     Taker buy base asset volume  Taker buy quote asset volume  Typical Price  \\\n",
      "996                      6932.67                     46.797083       0.006756   \n",
      "997                      5458.87                     36.675664       0.006719   \n",
      "998                     10600.65                     70.710340       0.006697   \n",
      "999                       343.76                      2.314240       0.006733   \n",
      "0                          32.19                      0.216404       0.006723   \n",
      "\n",
      "     Moving Average       std  Upper Band  Lower Band  \n",
      "996        0.006821  0.000107    0.007035    0.006608  \n",
      "997        0.006822  0.000106    0.007033    0.006611  \n",
      "998        0.006822  0.000105    0.007033    0.006612  \n",
      "999        0.006824  0.000104    0.007031    0.006617  \n",
      "0          0.006826  0.000100    0.007027    0.006626  \n"
     ]
    }
   ],
   "source": [
    "from Strategies.BollingerBands import BollingerBands\n",
    "from Data.Binance import Binance\n",
    "\n",
    "b = Binance(\"LTCBTC\")\n",
    "\n",
    "bollinger_bands = BollingerBands()\n",
    "\n",
    "bollinger_bands.train_strategy(b.get_train_data())\n",
    "\n",
    "print(bollinger_bands.data_len())\n",
    "print(bollinger_bands.data.tail())\n",
    "\n",
    "bollinger_bands.add_new_data(b.get_new_data())\n",
    "\n",
    "print(bollinger_bands.data_len())\n",
    "\n",
    "print(bollinger_bands.data.tail())"
   ]
  },
  {
   "cell_type": "code",
   "execution_count": null,
   "metadata": {},
   "outputs": [],
   "source": []
  },
  {
   "cell_type": "code",
   "execution_count": null,
   "metadata": {},
   "outputs": [],
   "source": []
  }
 ],
 "metadata": {
  "kernelspec": {
   "display_name": "Python 3",
   "language": "python",
   "name": "python3"
  },
  "language_info": {
   "codemirror_mode": {
    "name": "ipython",
    "version": 3
   },
   "file_extension": ".py",
   "mimetype": "text/x-python",
   "name": "python",
   "nbconvert_exporter": "python",
   "pygments_lexer": "ipython3",
   "version": "3.7.6"
  }
 },
 "nbformat": 4,
 "nbformat_minor": 2
}
