{
 "cells": [
  {
   "cell_type": "code",
   "execution_count": 6,
   "metadata": {},
   "outputs": [
    {
     "name": "stdout",
     "output_type": "stream",
     "text": [
      "       Open time        Open        High         Low       Close  \\\n",
      "0  1579291080000  0.00689800  0.00690200  0.00689400  0.00689500   \n",
      "\n",
      "         Volume     Close time Quote asset volume  Number of trades  \\\n",
      "0  318.74000000  1579291139999         2.19817579                45   \n",
      "\n",
      "  Taker buy base asset volume Taker buy quote asset volume  \n",
      "0                204.51000000                   1.41046154  \n"
     ]
    }
   ],
   "source": [
    "from Data.Binance import Binance\n",
    "\n",
    "b = Binance(\"LTCBTC\")\n",
    "\n",
    "print(b.get_new_data().head())"
   ]
  },
  {
   "cell_type": "code",
   "execution_count": null,
   "metadata": {},
   "outputs": [],
   "source": []
  },
  {
   "cell_type": "code",
   "execution_count": null,
   "metadata": {},
   "outputs": [],
   "source": []
  }
 ],
 "metadata": {
  "kernelspec": {
   "display_name": "Python 3",
   "language": "python",
   "name": "python3"
  },
  "language_info": {
   "codemirror_mode": {
    "name": "ipython",
    "version": 3
   },
   "file_extension": ".py",
   "mimetype": "text/x-python",
   "name": "python",
   "nbconvert_exporter": "python",
   "pygments_lexer": "ipython3",
   "version": "3.7.6"
  }
 },
 "nbformat": 4,
 "nbformat_minor": 2
}
